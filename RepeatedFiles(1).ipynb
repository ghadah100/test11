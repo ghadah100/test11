{
 "cells": [
  {
   "cell_type": "code",
   "execution_count": 1,
   "metadata": {},
   "outputs": [],
   "source": [
    "#Import libraries\n",
    "import pandas as pd\n",
    "from operator import itemgetter\n",
    "from itertools import groupby\n",
    "\n",
    "df = pd.read_excel ('najdi.xlsx')\n",
    "df[\"show&episode\"]=df[\"show\"] + df[\"episode\"]\n",
    "\n",
    "df_Dupliactes=df.groupby(['show','episode'])\n",
    "df_Dupliactes=pd.concat(g for _, g in df_Dupliactes if len(g) > 1)\n",
    "\n",
    "df_Dupliactes_list = df_Dupliactes.values.tolist()\n",
    "\n",
    "#group lists based on show&episode\n",
    "listoflist=[list(v) for _,v in groupby( sorted(df_Dupliactes_list,key=itemgetter(5)),itemgetter(11))]\n",
    "\n",
    "#Flag dupliactes and assign orignal file path to dupliactes\n",
    "for x in listoflist:\n",
    "    boolean=True\n",
    "    for x1 in x:\n",
    "        if boolean:\n",
    "            filePath=x1[1]\n",
    "            boolean=False\n",
    "        else:\n",
    "            boolean=False\n",
    "            x1[9]=\"yes\"\n",
    "            x1[10]=filePath\n",
    "\n",
    "flatList = [ item for elem in listoflist for item in elem]\n",
    "df_Dupliactes= pd.DataFrame(flatList)\n",
    "\n",
    "\n",
    "df_Dupliactes=df_Dupliactes.rename(columns={0: \"storage\", 1: \"file path\",2 :\"filename\",3:\"length\",4:\"show\",5:\"episode\",6:\"source link\",7:\"dialect\",8:\"Number of speakers\",9:\"Repeated\",10:\"Original file path\",11:\"show&episode\"})     \n",
    "\n",
    "df_Dupliactes=df_Dupliactes.drop(columns=['show&episode'])\n",
    "\n",
    "df.drop_duplicates(subset =\"show&episode\",\n",
    "                     keep = False, inplace = True)\n",
    "df=df.drop(columns=['show&episode'])\n",
    "\n",
    "frames = [df, df_Dupliactes]\n",
    "result = pd.concat(frames)\n",
    "\n",
    "result.to_excel(\"Dupliacte.xlsx\",index=False) \n",
    "\n",
    "hello"
   ]
  }
 ],
 "metadata": {
  "kernelspec": {
   "display_name": "Python 3",
   "language": "python",
   "name": "python3"
  },
  "language_info": {
   "codemirror_mode": {
    "name": "ipython",
    "version": 3
   },
   "file_extension": ".py",
   "mimetype": "text/x-python",
   "name": "python",
   "nbconvert_exporter": "python",
   "pygments_lexer": "ipython3",
   "version": "3.8.5"
  }
 },
 "nbformat": 4,
 "nbformat_minor": 4
}
